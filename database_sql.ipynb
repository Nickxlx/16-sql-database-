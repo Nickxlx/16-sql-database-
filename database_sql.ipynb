{
 "cells": [
  {
   "cell_type": "markdown",
   "id": "9ed2414b-d529-4a9c-ac6f-a186449a956c",
   "metadata": {},
   "source": [
    "Q1. What is a database? Differentiate between SQL and NoSQL databases.\n",
    "\n",
    "Answer--> A database is a collection of structured data that is organized in a way that allows it to be easily stored, managed, and retrieved. Databases are used to store data for various purposes, such as managing business transactions, storing customer information, and tracking inventory.\n",
    "\n",
    "\n",
    "1 SQL stands for Structured Query Language where as NoSQL for Not only SQL databases.\n",
    "\n",
    "2 SQL databases are relational, while NoSQL databases are non-relational.\n",
    "\n",
    "3 SQL databases use a table-based structure, while NoSQL databases use a variety of data models.\n",
    "\n",
    "4 SQL databases are known for their strong data consistency, reliability, and durability, while NoSQL databases are known for their high availability, horizontal scalability, and fast data processing capabilities."
   ]
  },
  {
   "cell_type": "code",
   "execution_count": null,
   "id": "6bc4e886-6d7c-4a25-9150-3f5eee445682",
   "metadata": {},
   "outputs": [],
   "source": []
  },
  {
   "cell_type": "markdown",
   "id": "44e06b8c-9859-4fa2-872e-7847d08f0fb0",
   "metadata": {},
   "source": [
    "Q2. What is DDL? Explain why CREATE, DROP, ALTER, and TRUNCATE are used with an example.\n",
    "\n",
    "Answer--> DDL stands for Data Definition Language, which is a subset of SQL (Structured Query Language) used to define and modify the structure of database objects such as tables, views, indexes, and constraints."
   ]
  },
  {
   "cell_type": "markdown",
   "id": "719c4d5b-fa5d-4812-8353-6ff70bb48e02",
   "metadata": {},
   "source": [
    "1 CREATE: The CREATE command is used to create a new database object, such as a table or a view. For example, to create a new table named \"students\", we can use the following command:\n",
    "\n",
    "CREATE TABLE students (\n",
    "id INT PRIMARY KEY, name VARCHAR(50), age INT, address VARCHAR(100)\n",
    " );  # id is marked as primary so that each student must having a uniqy\n",
    " \n",
    "\n",
    "2 DROP: The DROP command is used to delete an existing database object, such as a table or a view. For example, to drop the \"students\" table we just created, we can use the following command:\n",
    "\n",
    "DROP TABLE students;\n",
    "\n",
    "\n",
    "3 ALTER: The ALTER command is used to modify the structure of an existing database object, such as adding or dropping columns in a table. For example, to add a new column named \"email\" to the \"students\" table, we can use the following command:\n",
    "\n",
    "ALTER TABLE students\n",
    "ADD COLUMN email VARCHAR(100);\n",
    "\n",
    "4 TRUNCATE: The TRUNCATE command is used to delete all the data from an existing table, while leaving the structure of the table intact. For example, to delete all the data from the \"students\" table, we can use the following command:\n",
    "\n",
    "TRUNCATE TABLE students;\n"
   ]
  },
  {
   "cell_type": "code",
   "execution_count": null,
   "id": "2e04ae33-3253-4157-9297-48596f9f5ec9",
   "metadata": {},
   "outputs": [],
   "source": []
  },
  {
   "cell_type": "markdown",
   "id": "81412fb4-bf74-4cbe-9a92-2139746f4b31",
   "metadata": {},
   "source": [
    "Q3. What is DML? Explain INSERT, UPDATE, and DELETE with an example.\n",
    "\n",
    "Answer--> DML stands for Data Manipulation Language, which is a subset of SQL (Structured Query Language) used to manipulate data stored in a database. DML commands are used to insert new data into a table, update existing data in a table, and delete data from a table."
   ]
  },
  {
   "cell_type": "markdown",
   "id": "7a9ce38c-732b-46d8-bd80-93385ae3856e",
   "metadata": {},
   "source": [
    "1 INSERT: The INSERT command is used to add new data to a table. \n",
    "For example, to insert a new record into a table named \"students\", we can use the following command:\n",
    "\n",
    "INSERT INTO students (id, name, age, address)\n",
    "VALUES (1, 'John Doe', 20, '123 Main St');\n",
    "\n",
    "This command inserts a new record with the specified values into the \"students\" table.\n",
    "\n",
    "2 UPDATE: The UPDATE command is used to modify existing data in a table. For example, to update the age of the student with id=1 in the \"students\" table, we can use the following command:\n",
    "\n",
    "UPDATE students\n",
    "SET age = 21\n",
    "WHERE id = 1;\n",
    "\n",
    "This command updates the age of the student with id=1 to 21 in the \"students\" table.\n",
    "\n",
    "3 DELETE: The DELETE command is used to remove data from a table. For example, to delete the record for the student with id=1 from the \"students\" table, we can use the following command:\n",
    "\n",
    "DELETE FROM students\n",
    "WHERE id = 1;\n",
    "\n",
    "This command deletes the record for the student with id=1 from the \"students\" table"
   ]
  },
  {
   "cell_type": "code",
   "execution_count": null,
   "id": "2a5e2a76-2207-469e-a00f-a877a9b2fb09",
   "metadata": {},
   "outputs": [],
   "source": []
  },
  {
   "cell_type": "markdown",
   "id": "6a98658c-db4b-4d72-959e-d52669d43aa0",
   "metadata": {},
   "source": [
    "Q4. What is DQL? Explain SELECT with an example.\n",
    "\n",
    "Answer-->  DQL stands for Data Query Language, which is a subset of SQL (Structured Query Language) used to retrieve data from a database. The most commonly used DQL command is SELECT, which is used to retrieve data from one or more tables in a database."
   ]
  },
  {
   "cell_type": "markdown",
   "id": "40127ac4-30e5-4709-b06b-563c39cd584e",
   "metadata": {},
   "source": [
    "SELECT * FROM students;\n",
    "\n",
    "This command selects all columns from the \"students\" table and returns all rows.\n",
    "\n",
    "We can also use the SELECT command to retrieve specific columns from a table. \n",
    "For example, to retrieve only the \"name\" and \"age\" columns from the \"students\" table, we can use the following command:\n",
    "\n",
    "SELECT name, age FROM students;\n",
    "\n",
    "This command selects only the \"name\" and \"age\" columns from the \"students\" table and returns all rows."
   ]
  },
  {
   "cell_type": "code",
   "execution_count": null,
   "id": "dfa7e168-60bb-446a-8541-d4dbda3cd765",
   "metadata": {},
   "outputs": [],
   "source": []
  },
  {
   "cell_type": "markdown",
   "id": "e5f75006-989e-4d7e-9892-512af83e8a13",
   "metadata": {},
   "source": [
    "Q5. Explain Primary Key and Foreign Key.\n",
    "\n",
    "Answer--> In a relational database, a primary key and a foreign key are two important concepts used to establish relationships between tables.\n",
    "\n",
    "A primary key is a column or set of columns in a table that uniquely identifies each row in that table. It must be unique and not null for each record in the table. A primary key is used to enforce data integrity and ensure that each record in the table can be uniquely identified. For example, in a table of \"students\", the \"id\" column can be designated as the primary key, ensuring that each student has a unique identifier.\n",
    "\n",
    "A foreign key is a column or set of columns in one table that refers to the primary key of another table. It is used to establish a relationship between two tables, where the values in the foreign key column must match the values in the primary key column of the referenced table. For example, in a table of \"enrollments\", the \"student_id\" column can be designated as a foreign key, referring to the primary key of the \"students\" table. This ensures that each enrollment is associated with a valid student record.\n",
    "\n",
    "In summary, a primary key is used to uniquely identify each record in a table, while a foreign key is used to establish a relationship between tables. Together, they ensure data consistency and help to maintain the integrity of a relational database."
   ]
  },
  {
   "cell_type": "code",
   "execution_count": null,
   "id": "df2bffe0-f8ff-4f8b-b041-67a2756ae12b",
   "metadata": {},
   "outputs": [],
   "source": []
  },
  {
   "cell_type": "markdown",
   "id": "e34716b0-5253-424f-b8f4-c4bdfe2418f9",
   "metadata": {},
   "source": [
    "Q6. Write a python code to connect MySQL to python. Explain the cursor() and execute() method.\n"
   ]
  },
  {
   "cell_type": "markdown",
   "id": "9aa239ba-98ea-43a1-8f9c-cba56a348140",
   "metadata": {},
   "source": [
    "\n",
    "import mysql.conector\n",
    "\n",
    "mydb = mysql.connector.connect(\n",
    "    host = \"localhost\",\n",
    "    user = \"abc\",\n",
    "    password = \"pasword\",\n",
    "    database='database_name'\n",
    ")\n",
    "\n",
    "mycursor = mydm.cousor()\n",
    "\n",
    "mycursor.exicute(\"query\")\n",
    "\n",
    "mydb.close()"
   ]
  },
  {
   "cell_type": "markdown",
   "id": "7fad6959-ec1e-4c1b-ac12-4c955505f4d1",
   "metadata": {},
   "source": [
    "cursor() method in Python is used to create a cursor object, which is used to interact with a database. A cursor is a control structure that enables traversal of records in a database. It allows you to execute SQL queries, fetch results, and manage transactions."
   ]
  },
  {
   "cell_type": "markdown",
   "id": "ccd373b7-c885-494d-a27a-a930c4c3e28b",
   "metadata": {},
   "source": [
    "execute() method is used to execute a SQL query on a MySQL database. It takes a single argument, which is the SQL query to be executed. "
   ]
  },
  {
   "cell_type": "code",
   "execution_count": null,
   "id": "84103769-0fab-428b-aad1-705e6baf468a",
   "metadata": {},
   "outputs": [],
   "source": []
  },
  {
   "cell_type": "markdown",
   "id": "9cc162e0-0fec-4f55-8b51-debbcd902467",
   "metadata": {},
   "source": [
    "Q7. Give the order of execution of SQL clauses in an SQL query.\n",
    "\n",
    "Answer-->\n",
    "In a typical SQL query, the clauses are executed in the following order:\n",
    "\n",
    "1 SELECT - This clause is used to select the columns and rows to be returned by the query. It is usually the first clause in a SQL query.\n",
    "\n",
    "2 FROM - This clause is used to specify the table or tables from which to retrieve the data. It follows the SELECT clause in a SQL query.\n",
    "\n",
    "3 WHERE - This clause is used to filter the results based on a specified condition. It follows the FROM clause in a SQL query.\n",
    "\n",
    "4 GROUP BY - This clause is used to group the results by one or more columns. It follows the WHERE clause in a SQL query.\n",
    "\n",
    "5 HAVING - This clause is used to filter the results of a GROUP BY clause based on a specified condition. It follows the GROUP BY clause in a SQL query.\n",
    "\n",
    "6 ORDER BY - This clause is used to sort the results based on one or more columns. It follows the HAVING clause in a SQL query.\n",
    "\n",
    "7 LIMIT - This clause is used to limit the number of rows returned by the query. It is usually the last clause in a SQL query.\n",
    "\n",
    "It's important to note that not all SQL queries will use all of these clauses, and they may not always be executed in this exact order. However, this is the typical order of execution for a basic SQL query that includes all of these clauses."
   ]
  },
  {
   "cell_type": "code",
   "execution_count": null,
   "id": "f317f58f-a597-40b5-9655-6d45e1704363",
   "metadata": {},
   "outputs": [],
   "source": []
  }
 ],
 "metadata": {
  "kernelspec": {
   "display_name": "Python 3 (ipykernel)",
   "language": "python",
   "name": "python3"
  },
  "language_info": {
   "codemirror_mode": {
    "name": "ipython",
    "version": 3
   },
   "file_extension": ".py",
   "mimetype": "text/x-python",
   "name": "python",
   "nbconvert_exporter": "python",
   "pygments_lexer": "ipython3",
   "version": "3.10.8"
  }
 },
 "nbformat": 4,
 "nbformat_minor": 5
}
